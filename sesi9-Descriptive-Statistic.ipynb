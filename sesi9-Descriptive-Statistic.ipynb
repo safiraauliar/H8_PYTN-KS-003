{
 "cells": [
  {
   "cell_type": "markdown",
   "id": "c3a0d723",
   "metadata": {},
   "source": [
    "# Descriptive Statistic\n",
    "summarizing dan mengatur data sehingga dapat dengan mudah dipahami\n",
    "\n",
    "## Yang diukur\n",
    "* Central tendency (nilai tengah)\n",
    "    - average/mean\n",
    "    - median\n",
    "    - mode\n",
    "* Spead (Sebaran)\n",
    "    - standar deviation (stdv)\n",
    "    - mean deviation\n",
    "    - variance\n",
    "    - percentil\n",
    "    - quadratil\n",
    "\n",
    "## Bentuk Kurva\n",
    "* Berdasarkan nilai tengah : \n",
    "    - positif skew\n",
    "    - simetrical skew \n",
    "    - negative skew\n",
    "* Berdasarkan sebaran :\n",
    "    - Leprokurtic\n",
    "    - Mesokurtic\n",
    "    - platykurtic\n",
    " \n",
    "# Korelasi\n",
    "* no corelation\n",
    "* "
   ]
  },
  {
   "cell_type": "code",
   "execution_count": 1,
   "id": "16304150",
   "metadata": {},
   "outputs": [],
   "source": [
    "import math\n",
    "import statistics\n",
    "import numpy as np\n",
    "import scipy.stats\n",
    "import pandas as pd"
   ]
  },
  {
   "cell_type": "code",
   "execution_count": 3,
   "id": "834c48ad",
   "metadata": {},
   "outputs": [
    {
     "name": "stdout",
     "output_type": "stream",
     "text": [
      "[8.0, 1, 2, 0.5, 8, 17]\n",
      "[8.0, 1, 2, nan, 1.5, 8, 17]\n"
     ]
    }
   ],
   "source": [
    "x= [8.0, 1, 2, 0.5, 8, 17]\n",
    "x_with_nan= [8.0, 1, 2, math.nan, 1.5,8,17 ]\n",
    "print(x)\n",
    "print(x_with_nan)"
   ]
  },
  {
   "cell_type": "code",
   "execution_count": 4,
   "id": "6b8addda",
   "metadata": {},
   "outputs": [],
   "source": [
    "y, y_with_nan= np.array(x), np.array(x_with_nan)\n",
    "z, z_with_nan= pd.Series(x), pd.Series(x_with_nan)"
   ]
  },
  {
   "cell_type": "code",
   "execution_count": 9,
   "id": "1e383d5f",
   "metadata": {},
   "outputs": [
    {
     "name": "stdout",
     "output_type": "stream",
     "text": [
      "[ 8.   1.   2.   0.5  8.  17. ]\n",
      "[ 8.   1.   2.   nan  1.5  8.  17. ]\n",
      "0     8.0\n",
      "1     1.0\n",
      "2     2.0\n",
      "3     NaN\n",
      "4     1.5\n",
      "5     8.0\n",
      "6    17.0\n",
      "dtype: float64\n"
     ]
    }
   ],
   "source": [
    "print(y)\n",
    "print(y_with_nan)\n",
    "print(z_with_nan)"
   ]
  },
  {
   "cell_type": "code",
   "execution_count": 10,
   "id": "0f15e618",
   "metadata": {},
   "outputs": [
    {
     "name": "stdout",
     "output_type": "stream",
     "text": [
      "6.083333333333333\n"
     ]
    }
   ],
   "source": [
    "mean= statistics.mean(x)\n",
    "print(mean)"
   ]
  },
  {
   "cell_type": "code",
   "execution_count": 11,
   "id": "601428cb",
   "metadata": {},
   "outputs": [
    {
     "name": "stdout",
     "output_type": "stream",
     "text": [
      "nan\n"
     ]
    }
   ],
   "source": [
    "mean_x_nan= statistics.mean(x_with_nan)\n",
    "print(mean_x_nan)"
   ]
  },
  {
   "cell_type": "code",
   "execution_count": 20,
   "id": "e0dcbb47",
   "metadata": {},
   "outputs": [
    {
     "name": "stdout",
     "output_type": "stream",
     "text": [
      "6.083333333333333\n",
      "nan\n",
      "6.25\n"
     ]
    }
   ],
   "source": [
    "print(np.mean(y))\n",
    "print(np.mean(y_with_nan))\n",
    "print(np.nanmean(y_with_nan))"
   ]
  },
  {
   "cell_type": "code",
   "execution_count": 15,
   "id": "3477d6a6",
   "metadata": {},
   "outputs": [
    {
     "name": "stdout",
     "output_type": "stream",
     "text": [
      "5.0\n",
      "5.0\n",
      "5.0\n"
     ]
    }
   ],
   "source": [
    "print(np.median(x))\n",
    "print(np.median(y))\n",
    "print(np.median(z))"
   ]
  },
  {
   "cell_type": "code",
   "execution_count": 22,
   "id": "4eab5f63",
   "metadata": {},
   "outputs": [
    {
     "name": "stdout",
     "output_type": "stream",
     "text": [
      "nan\n",
      "5.0\n",
      "5.0\n"
     ]
    }
   ],
   "source": [
    "print(np.median(x_with_nan))\n",
    "print(np.nanmedian(y_with_nan))\n",
    "print(np.nanmedian(z_with_nan))"
   ]
  },
  {
   "cell_type": "code",
   "execution_count": 19,
   "id": "9da91b7c",
   "metadata": {},
   "outputs": [
    {
     "name": "stdout",
     "output_type": "stream",
     "text": [
      "8.0\n",
      "8.0\n",
      "8.0\n",
      "8.0\n",
      "8.0\n"
     ]
    }
   ],
   "source": [
    "print(statistics.mode(x))\n",
    "print(statistics.mode(y))\n",
    "print(statistics.mode(y_with_nan))\n",
    "\n",
    "print(statistics.mode(z))\n",
    "print(statistics.mode(z_with_nan))"
   ]
  },
  {
   "cell_type": "code",
   "execution_count": 24,
   "id": "745318a1",
   "metadata": {},
   "outputs": [
    {
     "name": "stdout",
     "output_type": "stream",
     "text": [
      "6.083333333333333\n",
      "nan\n"
     ]
    }
   ],
   "source": [
    "#central tendency\n",
    "print(z.mean())\n",
    "print(y_with_nan.mean())\n",
    "\n"
   ]
  },
  {
   "cell_type": "code",
   "execution_count": 30,
   "id": "2a8d5ab4",
   "metadata": {},
   "outputs": [
    {
     "name": "stdout",
     "output_type": "stream",
     "text": [
      "7.500000000000001\n"
     ]
    }
   ],
   "source": [
    "#weighted mean -> \n",
    "w= [0.7, 0.8, 0.1, 0.2, 0.3, 0.7]\n",
    "\n",
    "wmean= sum(w[i]*x[i]for i in range(len(x)))/sum(w)\n",
    "print(wmean)"
   ]
  },
  {
   "cell_type": "code",
   "execution_count": 31,
   "id": "2c97bd3a",
   "metadata": {},
   "outputs": [
    {
     "data": {
      "text/plain": [
       "7.500000000000001"
      ]
     },
     "execution_count": 31,
     "metadata": {},
     "output_type": "execute_result"
    }
   ],
   "source": [
    "wmeanbp= np.average(y, weights=w)\n",
    "wmeanbp"
   ]
  },
  {
   "cell_type": "code",
   "execution_count": 32,
   "id": "34575f29",
   "metadata": {},
   "outputs": [
    {
     "data": {
      "text/plain": [
       "1.5752895752895755"
      ]
     },
     "execution_count": 32,
     "metadata": {},
     "output_type": "execute_result"
    }
   ],
   "source": [
    "#harmonic mean-> \n",
    "harmonicmean= len(x)/(sum(1/i for i in x))\n",
    "harmonicmean"
   ]
  },
  {
   "cell_type": "code",
   "execution_count": 34,
   "id": "2e6c7476",
   "metadata": {},
   "outputs": [
    {
     "data": {
      "text/plain": [
       "1.5752895752895753"
      ]
     },
     "execution_count": 34,
     "metadata": {},
     "output_type": "execute_result"
    }
   ],
   "source": [
    "harmonicmean= statistics.harmonic_mean(x)\n",
    "harmonicmean"
   ]
  },
  {
   "cell_type": "code",
   "execution_count": 36,
   "id": "794ae851",
   "metadata": {},
   "outputs": [
    {
     "name": "stdout",
     "output_type": "stream",
     "text": [
      "0.5916079783099616 0.5773502691896257\n"
     ]
    }
   ],
   "source": [
    "#geometric mean\n",
    "# laptop1 harga 20jt lama pakai 7 tahun\n",
    "# laptop 2 12 jt lama pakai 4 tahun\n",
    "# laptop 1 geometrik meannya\n",
    "\n",
    "geoMeanLaptop1 = math.sqrt(1/20 * 7)\n",
    "geoMeanLaptop2 = math.sqrt(1/12 * 4)\n",
    "print(geoMeanLaptop1, geoMeanLaptop2)\n"
   ]
  },
  {
   "cell_type": "code",
   "execution_count": 41,
   "id": "e5db52ae",
   "metadata": {},
   "outputs": [
    {
     "data": {
      "text/plain": [
       "1"
      ]
     },
     "execution_count": 41,
     "metadata": {},
     "output_type": "execute_result"
    }
   ],
   "source": [
    "modusData= [1,1,1,3,4,5,6,7,8,9,1]\n",
    "modus= max(modusData.count(item) for item in modusData)\n",
    "\n",
    "modus\n",
    "modusStat= statistics.mode(modusData)\n",
    "modusStat"
   ]
  },
  {
   "cell_type": "code",
   "execution_count": 43,
   "id": "09e7ac67",
   "metadata": {},
   "outputs": [
    {
     "name": "stdout",
     "output_type": "stream",
     "text": [
      "9.163636363636364 9.163636363636362\n"
     ]
    }
   ],
   "source": [
    "#variability\n",
    "varianceState= statistics.variance(modusData)\n",
    "mean_ = sum(modusData)/len(modusData)\n",
    "variance= sum((item - mean_)**2 for item in modusData)/(len(modusData)-1)\n",
    "print(varianceState, variance)"
   ]
  },
  {
   "cell_type": "code",
   "execution_count": 44,
   "id": "f33a7e91",
   "metadata": {},
   "outputs": [
    {
     "name": "stdout",
     "output_type": "stream",
     "text": [
      "3.027149874657078 3.027149874657078\n"
     ]
    }
   ],
   "source": [
    "stdv= math.sqrt(variance)\n",
    "stdvState= statistics.stdev(modusData)\n",
    "print(stdv, stdvState)"
   ]
  },
  {
   "cell_type": "code",
   "execution_count": 47,
   "id": "f22759a7",
   "metadata": {},
   "outputs": [
    {
     "data": {
      "text/plain": [
       "0.24935156205469858"
      ]
     },
     "execution_count": 47,
     "metadata": {},
     "output_type": "execute_result"
    }
   ],
   "source": [
    "#skewness\n",
    "skewns= scipy.stats.skew(modusData)\n",
    "skewns"
   ]
  },
  {
   "cell_type": "code",
   "execution_count": 48,
   "id": "6d2838d8",
   "metadata": {},
   "outputs": [
    {
     "data": {
      "text/plain": [
       "9.0"
      ]
     },
     "execution_count": 48,
     "metadata": {},
     "output_type": "execute_result"
    }
   ],
   "source": [
    "#precentile\n",
    "fiveprecentile= np.percentile(modusData, 100)\n",
    "fiveprecentile"
   ]
  },
  {
   "cell_type": "code",
   "execution_count": 49,
   "id": "b6b23bc3",
   "metadata": {},
   "outputs": [
    {
     "data": {
      "text/plain": [
       "8"
      ]
     },
     "execution_count": 49,
     "metadata": {},
     "output_type": "execute_result"
    }
   ],
   "source": [
    "#range -> max val - min val\n",
    "rangeData= max(modusData) - min(modusData)\n",
    "rangeData"
   ]
  },
  {
   "cell_type": "code",
   "execution_count": 50,
   "id": "a27191d9",
   "metadata": {},
   "outputs": [
    {
     "data": {
      "text/plain": [
       "DescribeResult(nobs=11, minmax=(1, 9), mean=4.181818181818182, variance=9.163636363636364, skewness=0.24935156205469858, kurtosis=-1.3784722222222225)"
      ]
     },
     "execution_count": 50,
     "metadata": {},
     "output_type": "execute_result"
    }
   ],
   "source": [
    "describeData= scipy.stats.describe(modusData)\n",
    "describeData"
   ]
  },
  {
   "cell_type": "code",
   "execution_count": 51,
   "id": "21626ea2",
   "metadata": {},
   "outputs": [],
   "source": [
    "twod = np.array([\n",
    "    [1,1,1],\n",
    "    [1,2,4],\n",
    "    [4,8,9],\n",
    "    [5,6,7]\n",
    "    \n",
    "])\n"
   ]
  },
  {
   "cell_type": "code",
   "execution_count": 52,
   "id": "b88cb0b5",
   "metadata": {},
   "outputs": [
    {
     "data": {
      "text/plain": [
       "DescribeResult(nobs=4, minmax=(array([1, 1, 1]), array([5, 8, 9])), mean=array([2.75, 4.25, 5.25]), variance=array([ 4.25      , 10.91666667, 12.25      ]), skewness=array([ 0.11531718,  0.13205603, -0.18515606]), kurtosis=array([-1.84775087, -1.71586737, -1.41302235]))"
      ]
     },
     "execution_count": 52,
     "metadata": {},
     "output_type": "execute_result"
    }
   ],
   "source": [
    "scipy.stats.describe(twod)"
   ]
  },
  {
   "cell_type": "code",
   "execution_count": 53,
   "id": "4e0956d9",
   "metadata": {},
   "outputs": [
    {
     "data": {
      "text/html": [
       "<div>\n",
       "<style scoped>\n",
       "    .dataframe tbody tr th:only-of-type {\n",
       "        vertical-align: middle;\n",
       "    }\n",
       "\n",
       "    .dataframe tbody tr th {\n",
       "        vertical-align: top;\n",
       "    }\n",
       "\n",
       "    .dataframe thead th {\n",
       "        text-align: right;\n",
       "    }\n",
       "</style>\n",
       "<table border=\"1\" class=\"dataframe\">\n",
       "  <thead>\n",
       "    <tr style=\"text-align: right;\">\n",
       "      <th></th>\n",
       "      <th>a</th>\n",
       "      <th>b</th>\n",
       "      <th>c</th>\n",
       "    </tr>\n",
       "  </thead>\n",
       "  <tbody>\n",
       "    <tr>\n",
       "      <th>1</th>\n",
       "      <td>1</td>\n",
       "      <td>1</td>\n",
       "      <td>1</td>\n",
       "    </tr>\n",
       "    <tr>\n",
       "      <th>2</th>\n",
       "      <td>1</td>\n",
       "      <td>2</td>\n",
       "      <td>4</td>\n",
       "    </tr>\n",
       "    <tr>\n",
       "      <th>3</th>\n",
       "      <td>4</td>\n",
       "      <td>8</td>\n",
       "      <td>9</td>\n",
       "    </tr>\n",
       "    <tr>\n",
       "      <th>4</th>\n",
       "      <td>5</td>\n",
       "      <td>6</td>\n",
       "      <td>7</td>\n",
       "    </tr>\n",
       "  </tbody>\n",
       "</table>\n",
       "</div>"
      ],
      "text/plain": [
       "   a  b  c\n",
       "1  1  1  1\n",
       "2  1  2  4\n",
       "3  4  8  9\n",
       "4  5  6  7"
      ]
     },
     "execution_count": 53,
     "metadata": {},
     "output_type": "execute_result"
    }
   ],
   "source": [
    "row_names =[1,2,3,4]\n",
    "col_name = [\"a\",\"b\",\"c\"]\n",
    "\n",
    "df =pd.DataFrame(twod, index = row_names, columns= col_name)\n",
    "df"
   ]
  },
  {
   "cell_type": "code",
   "execution_count": 56,
   "id": "61572db5",
   "metadata": {},
   "outputs": [
    {
     "data": {
      "text/plain": [
       "2.75"
      ]
     },
     "execution_count": 56,
     "metadata": {},
     "output_type": "execute_result"
    }
   ],
   "source": [
    "df['a'].mean()"
   ]
  },
  {
   "cell_type": "code",
   "execution_count": 57,
   "id": "d911a2ba",
   "metadata": {},
   "outputs": [
    {
     "data": {
      "text/plain": [
       "2.5"
      ]
     },
     "execution_count": 57,
     "metadata": {},
     "output_type": "execute_result"
    }
   ],
   "source": [
    "df['a'].medianian()"
   ]
  },
  {
   "cell_type": "code",
   "execution_count": null,
   "id": "268dbd4c",
   "metadata": {},
   "outputs": [],
   "source": []
  }
 ],
 "metadata": {
  "kernelspec": {
   "display_name": "Python 3",
   "language": "python",
   "name": "python3"
  },
  "language_info": {
   "codemirror_mode": {
    "name": "ipython",
    "version": 3
   },
   "file_extension": ".py",
   "mimetype": "text/x-python",
   "name": "python",
   "nbconvert_exporter": "python",
   "pygments_lexer": "ipython3",
   "version": "3.8.10"
  }
 },
 "nbformat": 4,
 "nbformat_minor": 5
}
