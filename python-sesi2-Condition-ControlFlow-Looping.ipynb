{
 "cells": [
  {
   "cell_type": "markdown",
   "id": "cab38f36",
   "metadata": {},
   "source": [
    "### Introduction to the if statement"
   ]
  },
  {
   "cell_type": "code",
   "execution_count": 1,
   "id": "efde1cf7",
   "metadata": {},
   "outputs": [
    {
     "name": "stdout",
     "output_type": "stream",
     "text": [
      "yes\n",
      "yes\n",
      "yes\n"
     ]
    }
   ],
   "source": [
    "x = 0\n",
    "y = 5\n",
    "\n",
    "if x<y:\n",
    "    print('yes')\n",
    "if y < x :\n",
    "    print('yes')\n",
    "if x :\n",
    "    print('yes')\n",
    "if y :\n",
    "    print('yes')\n",
    "if 'aul' in 'grault':\n",
    "    print('yes')\n",
    "if 'quux' in ['foo', 'bar', 'baz']:\n",
    "    print('yes')"
   ]
  },
  {
   "cell_type": "code",
   "execution_count": 2,
   "id": "dd1779f0",
   "metadata": {},
   "outputs": [
    {
     "name": "stdout",
     "output_type": "stream",
     "text": [
      "After conditional\n"
     ]
    }
   ],
   "source": [
    "if 'foo' in ['bar', 'baz', 'qux']:\n",
    "    print('Expression was true')\n",
    "    print('Executing statement in suite')\n",
    "    print('...')\n",
    "    print('Done')\n",
    "print('After conditional')"
   ]
  },
  {
   "cell_type": "code",
   "execution_count": 3,
   "id": "b099b284",
   "metadata": {},
   "outputs": [
    {
     "name": "stdout",
     "output_type": "stream",
     "text": [
      "Outer condition is True\n",
      "between inner condition\n",
      "inner condition 2\n",
      "end of outer condition\n",
      "After outer condition\n"
     ]
    }
   ],
   "source": [
    "if 'foo' in ['foo', 'bar', 'baz']:\n",
    "    print('Outer condition is True')\n",
    "    if 10 > 20 :\n",
    "        print(\"Inner condition 1\")\n",
    "        \n",
    "    print('between inner condition')\n",
    "    \n",
    "    if 10 < 20 :\n",
    "        print('inner condition 2')\n",
    "        \n",
    "    print('end of outer condition')\n",
    "print('After outer condition')"
   ]
  },
  {
   "cell_type": "markdown",
   "id": "177c2c7f",
   "metadata": {},
   "source": [
    "### The else and elif Clauses"
   ]
  },
  {
   "cell_type": "code",
   "execution_count": 4,
   "id": "0f56b1d5",
   "metadata": {},
   "outputs": [
    {
     "name": "stdout",
     "output_type": "stream",
     "text": [
      "first suite\n",
      "x is small\n"
     ]
    }
   ],
   "source": [
    "# if <expression>:\n",
    "#     <statement(s)>\n",
    "# else:\n",
    "#     <statement(s)>\n",
    "\n",
    "x = 20\n",
    "if x < 50 :\n",
    "    print('first suite')\n",
    "    print('x is small')\n",
    "else:\n",
    "    print('second suite')\n",
    "    print('x is large')\n"
   ]
  },
  {
   "cell_type": "code",
   "execution_count": 5,
   "id": "7d2c4a98",
   "metadata": {},
   "outputs": [
    {
     "name": "stdout",
     "output_type": "stream",
     "text": [
      "uang tidak cukup\n"
     ]
    }
   ],
   "source": [
    "hargaBuku = 20000\n",
    "hargaMajalah = 5000\n",
    "uang = 2000\n",
    "\n",
    "if uang > hargaBuku:\n",
    "    print(\"beli buku\")\n",
    "elif uang > hargaMajalah:\n",
    "    print(\"beli majalah\")\n",
    "else:\n",
    "    print(\"uang tidak cukup\")"
   ]
  },
  {
   "cell_type": "markdown",
   "id": "18a376c2",
   "metadata": {},
   "source": [
    "#### one-line if statement"
   ]
  },
  {
   "cell_type": "code",
   "execution_count": 9,
   "id": "2d520571",
   "metadata": {},
   "outputs": [],
   "source": [
    "if 'f' in 'foo': print('1'); print('2'); print('3')"
   ]
  },
  {
   "cell_type": "code",
   "execution_count": 10,
   "id": "e2d8628e",
   "metadata": {},
   "outputs": [
    {
     "name": "stdout",
     "output_type": "stream",
     "text": [
      "qux\n",
      "quux\n"
     ]
    }
   ],
   "source": [
    "x = 2\n",
    "\n",
    "if x == 1: print('foo'); print('bar'); print('baz')\n",
    "elif x == 2: print('qux'); print('quux')\n",
    "else: print('corge'); print('grault')"
   ]
  },
  {
   "cell_type": "markdown",
   "id": "dd045e54",
   "metadata": {},
   "source": [
    "#### Conditional Expression"
   ]
  },
  {
   "cell_type": "code",
   "execution_count": null,
   "id": "039e3c4d",
   "metadata": {},
   "outputs": [],
   "source": [
    "myAge = 0\n",
    "adultTreshould = 18\n",
    "myAge = int(input(\"input your age: \"))\n",
    "\n",
    "if myAge >= adultTreshould:\n",
    "    print(\"you're an adult, lets drink!\")\n",
    "else:\n",
    "    yearsToAdult = adultTreshould - myAge\n",
    "    print(\"you're \")"
   ]
  },
  {
   "cell_type": "code",
   "execution_count": 1,
   "id": "524717aa",
   "metadata": {},
   "outputs": [
    {
     "name": "stdout",
     "output_type": "stream",
     "text": [
      "input nilai: 20\n",
      "your grade : E\n"
     ]
    }
   ],
   "source": [
    "nilai = float(input(\"input nilai: \"))\n",
    "if nilai > 90:\n",
    "    print(\"your grade : A\")\n",
    "elif nilai <=90 and nilai > 70:\n",
    "    print(\"your grade: B\")\n",
    "elif nilai <= 70 and nilai > 50:\n",
    "    print(\"your grade: C\")\n",
    "elif nilai < 50 and nilai >30:\n",
    "    print(\"your grade: D\")\n",
    "else:\n",
    "    print(\"your grade : E\")"
   ]
  },
  {
   "cell_type": "code",
   "execution_count": 2,
   "id": "d508bce3",
   "metadata": {},
   "outputs": [
    {
     "name": "stdout",
     "output_type": "stream",
     "text": [
      "salah\n"
     ]
    }
   ],
   "source": [
    "if 0:\n",
    "    print(\"bener\")\n",
    "else:\n",
    "    print(\"salah\")"
   ]
  },
  {
   "cell_type": "code",
   "execution_count": 3,
   "id": "2bde2701",
   "metadata": {},
   "outputs": [
    {
     "name": "stdout",
     "output_type": "stream",
     "text": [
      "perulangan ke :0 \n",
      "perulangan ke :1 \n",
      "perulangan ke :2 \n",
      "perulangan ke :3 \n",
      "perulangan ke :4 \n",
      "perulangan ke :5 \n",
      "perulangan ke :6 \n",
      "perulangan ke :7 \n",
      "perulangan ke :8 \n",
      "perulangan ke :9 \n"
     ]
    }
   ],
   "source": [
    "i =0\n",
    "while i< 10:\n",
    "    print(f\"perulangan ke :{i} \")\n",
    "    i +=1"
   ]
  },
  {
   "cell_type": "code",
   "execution_count": null,
   "id": "35616459",
   "metadata": {},
   "outputs": [],
   "source": [
    "nilaiStr = \"\"\n",
    "while True:\n",
    "    nilaiStr = input(\"enter nilai: \")\n",
    "    if not nilaiStr.isnumeric(): break\n",
    "    nilai = int(nilaiStr)\n",
    "    if nilai >90:\n",
    "        print('A')\n",
    "    \n",
    "        \n",
    "    "
   ]
  },
  {
   "cell_type": "code",
   "execution_count": 9,
   "id": "87241ad2",
   "metadata": {},
   "outputs": [
    {
     "name": "stdout",
     "output_type": "stream",
     "text": [
      "enter number: 7\n",
      "02464\n",
      "12\n"
     ]
    }
   ],
   "source": [
    "num = int(input(\"enter number: \"))\n",
    "count = 0\n",
    "summ = 0\n",
    "for i in range(0,num):\n",
    "    if i%2==0:\n",
    "        print(i,end ='')\n",
    "        count +=1\n",
    "        summ +=i\n",
    "print(count)\n",
    "print(summ)\n",
    "    "
   ]
  },
  {
   "cell_type": "code",
   "execution_count": null,
   "id": "45d39985",
   "metadata": {},
   "outputs": [],
   "source": [
    "import random\n",
    "n = random.randint(0,10)\n",
    "isUserCorrect = False\n",
    "while not isUserCorrect:\n",
    "    inputUser =input(\"masukkan angka tebakan 0-10: \")\n",
    "    if not inputUser.isnumeric(): break\n",
    "    isUserCorrect = int(inputUser) == n\n",
    "else:\n",
    "    print(\"yeay anda benar\")\n",
    "\n",
    "\n"
   ]
  },
  {
   "cell_type": "code",
   "execution_count": 9,
   "id": "a8bb78ec",
   "metadata": {},
   "outputs": [
    {
     "name": "stdout",
     "output_type": "stream",
     "text": [
      "input rows: 8\n",
      "*\n",
      "**\n",
      "***\n",
      "****\n",
      "*****\n",
      "******\n",
      "*******\n",
      "********\n"
     ]
    }
   ],
   "source": [
    "rows = int(input(\"input rows: \"))\n",
    "i =1\n",
    "while i <= rows:\n",
    "    j=1\n",
    "    while j<=i:\n",
    "        print(\"*\", end='')\n",
    "        j+=1\n",
    "    print()\n",
    "    i+=1\n"
   ]
  },
  {
   "cell_type": "code",
   "execution_count": 8,
   "id": "c4aa7533",
   "metadata": {},
   "outputs": [
    {
     "name": "stdout",
     "output_type": "stream",
     "text": [
      "input angka: 3\n",
      "***\n",
      "***\n",
      "***\n"
     ]
    }
   ],
   "source": [
    "num = int(input(\"input angka: \"))\n",
    "i=1\n",
    "while i<=num:\n",
    "    j=1\n",
    "    while j<=num:\n",
    "        print(\"*\",end='')\n",
    "        j+=1\n",
    "    print()\n",
    "    i+=1"
   ]
  },
  {
   "cell_type": "code",
   "execution_count": 15,
   "id": "beaf7c18",
   "metadata": {},
   "outputs": [
    {
     "name": "stdout",
     "output_type": "stream",
     "text": [
      "input angka: 5\n",
      "*\n",
      "**\n",
      "***\n",
      "****\n",
      "*****\n"
     ]
    }
   ],
   "source": [
    "num = int(input(\"input angka: \"))\n",
    "for i in range(0,num):\n",
    "    j=0\n",
    "    for j in range (0,i+1):\n",
    "        print(\"*\",end='')\n",
    "        j+=1\n",
    "    print()\n",
    "    i+=1"
   ]
  },
  {
   "cell_type": "code",
   "execution_count": null,
   "id": "1d32dae1",
   "metadata": {},
   "outputs": [],
   "source": []
  },
  {
   "cell_type": "code",
   "execution_count": null,
   "id": "b4843980",
   "metadata": {},
   "outputs": [],
   "source": [
    "MyDict = {'hobbies':[],'nama': '', 'umur':'', 'pekerjaan':'',''}\n",
    "for key in MyDict:\n",
    "    if key == 'hobbies':\n",
    "        userinput = \"\"\n",
    "        while userinput != 'stop':\n",
    "            "
   ]
  }
 ],
 "metadata": {
  "kernelspec": {
   "display_name": "Python 3",
   "language": "python",
   "name": "python3"
  },
  "language_info": {
   "codemirror_mode": {
    "name": "ipython",
    "version": 3
   },
   "file_extension": ".py",
   "mimetype": "text/x-python",
   "name": "python",
   "nbconvert_exporter": "python",
   "pygments_lexer": "ipython3",
   "version": "3.8.10"
  }
 },
 "nbformat": 4,
 "nbformat_minor": 5
}
