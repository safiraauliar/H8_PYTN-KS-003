{
 "cells": [
  {
   "cell_type": "markdown",
   "id": "cab38f36",
   "metadata": {},
   "source": [
    "### Introduction to the if statement"
   ]
  },
  {
   "cell_type": "code",
   "execution_count": 1,
   "id": "efde1cf7",
   "metadata": {},
   "outputs": [
    {
     "name": "stdout",
     "output_type": "stream",
     "text": [
      "yes\n",
      "yes\n",
      "yes\n"
     ]
    }
   ],
   "source": [
    "x = 0\n",
    "y = 5\n",
    "\n",
    "if x<y:\n",
    "    print('yes')\n",
    "if y < x :\n",
    "    print('yes')\n",
    "if x :\n",
    "    print('yes')\n",
    "if y :\n",
    "    print('yes')\n",
    "if 'aul' in 'grault':\n",
    "    print('yes')\n",
    "if 'quux' in ['foo', 'bar', 'baz']:\n",
    "    print('yes')"
   ]
  },
  {
   "cell_type": "code",
   "execution_count": 2,
   "id": "dd1779f0",
   "metadata": {},
   "outputs": [
    {
     "name": "stdout",
     "output_type": "stream",
     "text": [
      "After conditional\n"
     ]
    }
   ],
   "source": [
    "if 'foo' in ['bar', 'baz', 'qux']:\n",
    "    print('Expression was true')\n",
    "    print('Executing statement in suite')\n",
    "    print('...')\n",
    "    print('Done')\n",
    "print('After conditional')"
   ]
  },
  {
   "cell_type": "code",
   "execution_count": 3,
   "id": "b099b284",
   "metadata": {},
   "outputs": [
    {
     "name": "stdout",
     "output_type": "stream",
     "text": [
      "Outer condition is True\n",
      "between inner condition\n",
      "inner condition 2\n",
      "end of outer condition\n",
      "After outer condition\n"
     ]
    }
   ],
   "source": [
    "if 'foo' in ['foo', 'bar', 'baz']:\n",
    "    print('Outer condition is True')\n",
    "    if 10 > 20 :\n",
    "        print(\"Inner condition 1\")\n",
    "        \n",
    "    print('between inner condition')\n",
    "    \n",
    "    if 10 < 20 :\n",
    "        print('inner condition 2')\n",
    "        \n",
    "    print('end of outer condition')\n",
    "print('After outer condition')"
   ]
  },
  {
   "cell_type": "markdown",
   "id": "177c2c7f",
   "metadata": {},
   "source": [
    "### The else and elif Clauses"
   ]
  },
  {
   "cell_type": "code",
   "execution_count": 4,
   "id": "0f56b1d5",
   "metadata": {},
   "outputs": [
    {
     "name": "stdout",
     "output_type": "stream",
     "text": [
      "first suite\n",
      "x is small\n"
     ]
    }
   ],
   "source": [
    "# if <expression>:\n",
    "#     <statement(s)>\n",
    "# else:\n",
    "#     <statement(s)>\n",
    "\n",
    "x = 20\n",
    "if x < 50 :\n",
    "    print('first suite')\n",
    "    print('x is small')\n",
    "else:\n",
    "    print('second suite')\n",
    "    print('x is large')\n"
   ]
  },
  {
   "cell_type": "code",
   "execution_count": 5,
   "id": "7d2c4a98",
   "metadata": {},
   "outputs": [
    {
     "name": "stdout",
     "output_type": "stream",
     "text": [
      "uang tidak cukup\n"
     ]
    }
   ],
   "source": [
    "hargaBuku = 20000\n",
    "hargaMajalah = 5000\n",
    "uang = 2000\n",
    "\n",
    "if uang > hargaBuku:\n",
    "    print(\"beli buku\")\n",
    "elif uang > hargaMajalah:\n",
    "    print(\"beli majalah\")\n",
    "else:\n",
    "    print(\"uang tidak cukup\")"
   ]
  },
  {
   "cell_type": "markdown",
   "id": "18a376c2",
   "metadata": {},
   "source": [
    "#### one-line if statement"
   ]
  },
  {
   "cell_type": "code",
   "execution_count": 9,
   "id": "2d520571",
   "metadata": {},
   "outputs": [],
   "source": [
    "if 'f' in 'foo': print('1'); print('2'); print('3')"
   ]
  },
  {
   "cell_type": "code",
   "execution_count": 10,
   "id": "e2d8628e",
   "metadata": {},
   "outputs": [
    {
     "name": "stdout",
     "output_type": "stream",
     "text": [
      "qux\n",
      "quux\n"
     ]
    }
   ],
   "source": [
    "x = 2\n",
    "\n",
    "if x == 1: print('foo'); print('bar'); print('baz')\n",
    "elif x == 2: print('qux'); print('quux')\n",
    "else: print('corge'); print('grault')"
   ]
  },
  {
   "cell_type": "markdown",
   "id": "dd045e54",
   "metadata": {},
   "source": [
    "#### Conditional Expression"
   ]
  },
  {
   "cell_type": "code",
   "execution_count": null,
   "id": "039e3c4d",
   "metadata": {},
   "outputs": [],
   "source": []
  }
 ],
 "metadata": {
  "kernelspec": {
   "display_name": "Python 3",
   "language": "python",
   "name": "python3"
  },
  "language_info": {
   "codemirror_mode": {
    "name": "ipython",
    "version": 3
   },
   "file_extension": ".py",
   "mimetype": "text/x-python",
   "name": "python",
   "nbconvert_exporter": "python",
   "pygments_lexer": "ipython3",
   "version": "3.8.10"
  }
 },
 "nbformat": 4,
 "nbformat_minor": 5
}
