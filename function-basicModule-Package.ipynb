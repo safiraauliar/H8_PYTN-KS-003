{
 "cells": [
  {
   "cell_type": "code",
   "execution_count": 14,
   "id": "9b97b6f1",
   "metadata": {},
   "outputs": [
    {
     "name": "stdout",
     "output_type": "stream",
     "text": [
      "input your age: 20\n",
      "you're an adult, lets drink!\n"
     ]
    }
   ],
   "source": [
    "def checkAges(MyAge):\n",
    "    adultTreshould = 18\n",
    "    if MyAge >= adultTreshould:\n",
    "        print(\"you're an adult, lets drink!\")\n",
    "    else:\n",
    "        yearsToAdult = adultTreshould - MyAge\n",
    "        print(f\"you're underage, let's wait {yearsToAdult} years more \")\n",
    "    \n",
    "# checkAges(15)\n",
    "myAge = int(input(\"input your age: \"))\n",
    "checkAges(myAge)\n"
   ]
  },
  {
   "cell_type": "code",
   "execution_count": 15,
   "id": "26a1d873",
   "metadata": {},
   "outputs": [
    {
     "name": "stdout",
     "output_type": "stream",
     "text": [
      "enter your name: safira\n",
      "enter your hobby: listening music\n",
      "hello nama saya safira\n",
      "hobby saya listening music\n"
     ]
    }
   ],
   "source": [
    "def printHello(nama, hobby):\n",
    "    print(f\"hello nama saya {nama}\")\n",
    "    print(f\"hobby saya {hobby}\")\n",
    "nama = input(\"enter your name: \")\n",
    "hobby = input(\"enter your hobby: \")\n",
    "printHello(nama, hobby)"
   ]
  },
  {
   "cell_type": "code",
   "execution_count": 16,
   "id": "82d5612f",
   "metadata": {},
   "outputs": [
    {
     "name": "stdout",
     "output_type": "stream",
     "text": [
      "20\n"
     ]
    }
   ],
   "source": [
    "def summ(numbers):\n",
    "    total = 0\n",
    "    for x in numbers:\n",
    "        total += x\n",
    "    return total\n",
    "print(summ((8, 2, 3, 0, 7)))"
   ]
  },
  {
   "cell_type": "code",
   "execution_count": 18,
   "id": "1a59a073",
   "metadata": {},
   "outputs": [
    {
     "name": "stdout",
     "output_type": "stream",
     "text": [
      "enter num of x : 3\n",
      "enter num of y: 2\n",
      "enter num of z: 4\n"
     ]
    },
    {
     "data": {
      "text/plain": [
       "54"
      ]
     },
     "execution_count": 18,
     "metadata": {},
     "output_type": "execute_result"
    }
   ],
   "source": [
    "def mul2(x,y,z):\n",
    "    hasil = 10*x + y**2 + z*5\n",
    "    return hasil\n",
    "# mul2(2,3,4)\n",
    "x = int(input(\"enter num of x: \"))\n",
    "y = int(input(\"enter num of y: \"))\n",
    "z = int(input(\"enter num of z: \"))\n",
    "mul2(x,y,z)"
   ]
  },
  {
   "cell_type": "code",
   "execution_count": 19,
   "id": "274f9319",
   "metadata": {},
   "outputs": [
    {
     "name": "stdout",
     "output_type": "stream",
     "text": [
      "Defaulting to user installation because normal site-packages is not writeable\n",
      "Collecting pytube\n",
      "  Downloading pytube-11.0.1-py3-none-any.whl (56 kB)\n",
      "\u001b[K     |████████████████████████████████| 56 kB 299 kB/s eta 0:00:01\n",
      "\u001b[?25hInstalling collected packages: pytube\n",
      "Successfully installed pytube-11.0.1\n"
     ]
    }
   ],
   "source": [
    "!pip3 install pytube"
   ]
  },
  {
   "cell_type": "code",
   "execution_count": 21,
   "id": "fdc8a9cb",
   "metadata": {},
   "outputs": [
    {
     "name": "stdout",
     "output_type": "stream",
     "text": [
      "Give url: \n",
      "https://youtu.be/BBvod49uySQ\n"
     ]
    },
    {
     "data": {
      "text/plain": [
       "'/home/dotachin/Hacktive-Python/Best 1 minute INSPIRATIONAL video  Priyanshu.mp4'"
      ]
     },
     "execution_count": 21,
     "metadata": {},
     "output_type": "execute_result"
    }
   ],
   "source": [
    "import pytube\n",
    "print(\"Give url: \")\n",
    "url = input()\n",
    "pytube.YouTube(url).streams.get_highest_resolution().download()\n"
   ]
  },
  {
   "cell_type": "code",
   "execution_count": null,
   "id": "b3af61ea",
   "metadata": {},
   "outputs": [],
   "source": []
  }
 ],
 "metadata": {
  "kernelspec": {
   "display_name": "Python 3",
   "language": "python",
   "name": "python3"
  },
  "language_info": {
   "codemirror_mode": {
    "name": "ipython",
    "version": 3
   },
   "file_extension": ".py",
   "mimetype": "text/x-python",
   "name": "python",
   "nbconvert_exporter": "python",
   "pygments_lexer": "ipython3",
   "version": "3.8.10"
  }
 },
 "nbformat": 4,
 "nbformat_minor": 5
}
