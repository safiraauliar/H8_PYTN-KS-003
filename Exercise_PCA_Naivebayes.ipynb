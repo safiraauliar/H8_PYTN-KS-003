{
 "cells": [
  {
   "cell_type": "code",
   "execution_count": 1,
   "id": "356eab6e",
   "metadata": {},
   "outputs": [],
   "source": [
    "from sklearn.datasets import load_breast_cancer\n",
    "import numpy as np\n",
    "import pandas as pd\n",
    "from sklearn.preprocessing import StandardScaler\n",
    "from sklearn.decomposition import PCA\n",
    "import matplotlib as mpl\n",
    "import matplotlib.pyplot as plt\n",
    "\n",
    "breastData = load_breast_cancer()\n",
    "labels = np.reshape(breastData.target, (569,1))\n",
    "breast_data = np.concatenate([breastData.data, labels], axis=1)\n",
    "breastFeatureLabel = np.append(breastData.feature_names,\"label\")\n",
    "breastDS = pd.DataFrame(breast_data)\n",
    "breastDS.columns = breastFeatureLabel\n",
    "breastDS['label_name']  = np.where(breastDS[\"label\"] == 0 , \"Benign\", \"Maligant\")\n",
    "x= breastDS.loc[:, breastData.feature_names].values\n",
    "x= StandardScaler().fit_transform(x)\n",
    "column_name = [\"feature\"+str(i) for i in range(x.shape[1])]\n",
    "normalize_breast_df = pd.DataFrame(x,columns= column_name)\n",
    "pca_model = PCA(n_components=4)\n",
    "principal_com_breast = pca_model.fit_transform(x)"
   ]
  },
  {
   "cell_type": "code",
   "execution_count": 2,
   "id": "384523b3",
   "metadata": {},
   "outputs": [
    {
     "data": {
      "text/plain": [
       "array([[ 9.19283682,  1.94858312, -1.12316719,  3.63373408],\n",
       "       [ 2.38780179, -3.76817181, -0.52929185,  1.11826079],\n",
       "       [ 5.73389628, -1.07517376, -0.55174758,  0.91208292],\n",
       "       ...,\n",
       "       [ 1.25617928, -1.90229673,  0.56273075, -2.08922763],\n",
       "       [10.37479406,  1.67201012, -1.8770295 , -2.3560302 ],\n",
       "       [-5.4752433 , -0.67063673,  1.49044201, -2.2991535 ]])"
      ]
     },
     "execution_count": 2,
     "metadata": {},
     "output_type": "execute_result"
    }
   ],
   "source": [
    "principal_com_breast"
   ]
  },
  {
   "cell_type": "code",
   "execution_count": 4,
   "id": "66e9bc16",
   "metadata": {},
   "outputs": [
    {
     "data": {
      "text/html": [
       "<div>\n",
       "<style scoped>\n",
       "    .dataframe tbody tr th:only-of-type {\n",
       "        vertical-align: middle;\n",
       "    }\n",
       "\n",
       "    .dataframe tbody tr th {\n",
       "        vertical-align: top;\n",
       "    }\n",
       "\n",
       "    .dataframe thead th {\n",
       "        text-align: right;\n",
       "    }\n",
       "</style>\n",
       "<table border=\"1\" class=\"dataframe\">\n",
       "  <thead>\n",
       "    <tr style=\"text-align: right;\">\n",
       "      <th></th>\n",
       "      <th>principal component 1</th>\n",
       "      <th>principal component 2</th>\n",
       "      <th>principal component 3</th>\n",
       "      <th>principal component 4</th>\n",
       "    </tr>\n",
       "  </thead>\n",
       "  <tbody>\n",
       "    <tr>\n",
       "      <th>0</th>\n",
       "      <td>9.192837</td>\n",
       "      <td>1.948583</td>\n",
       "      <td>-1.123167</td>\n",
       "      <td>3.633734</td>\n",
       "    </tr>\n",
       "    <tr>\n",
       "      <th>1</th>\n",
       "      <td>2.387802</td>\n",
       "      <td>-3.768172</td>\n",
       "      <td>-0.529292</td>\n",
       "      <td>1.118261</td>\n",
       "    </tr>\n",
       "    <tr>\n",
       "      <th>2</th>\n",
       "      <td>5.733896</td>\n",
       "      <td>-1.075174</td>\n",
       "      <td>-0.551748</td>\n",
       "      <td>0.912083</td>\n",
       "    </tr>\n",
       "    <tr>\n",
       "      <th>3</th>\n",
       "      <td>7.122953</td>\n",
       "      <td>10.275589</td>\n",
       "      <td>-3.232789</td>\n",
       "      <td>0.152546</td>\n",
       "    </tr>\n",
       "    <tr>\n",
       "      <th>4</th>\n",
       "      <td>3.935302</td>\n",
       "      <td>-1.948072</td>\n",
       "      <td>1.389767</td>\n",
       "      <td>2.940639</td>\n",
       "    </tr>\n",
       "    <tr>\n",
       "      <th>...</th>\n",
       "      <td>...</td>\n",
       "      <td>...</td>\n",
       "      <td>...</td>\n",
       "      <td>...</td>\n",
       "    </tr>\n",
       "    <tr>\n",
       "      <th>564</th>\n",
       "      <td>6.439315</td>\n",
       "      <td>-3.576817</td>\n",
       "      <td>2.459487</td>\n",
       "      <td>1.177313</td>\n",
       "    </tr>\n",
       "    <tr>\n",
       "      <th>565</th>\n",
       "      <td>3.793382</td>\n",
       "      <td>-3.584048</td>\n",
       "      <td>2.088477</td>\n",
       "      <td>-2.506029</td>\n",
       "    </tr>\n",
       "    <tr>\n",
       "      <th>566</th>\n",
       "      <td>1.256179</td>\n",
       "      <td>-1.902297</td>\n",
       "      <td>0.562731</td>\n",
       "      <td>-2.089228</td>\n",
       "    </tr>\n",
       "    <tr>\n",
       "      <th>567</th>\n",
       "      <td>10.374794</td>\n",
       "      <td>1.672010</td>\n",
       "      <td>-1.877029</td>\n",
       "      <td>-2.356030</td>\n",
       "    </tr>\n",
       "    <tr>\n",
       "      <th>568</th>\n",
       "      <td>-5.475243</td>\n",
       "      <td>-0.670637</td>\n",
       "      <td>1.490442</td>\n",
       "      <td>-2.299153</td>\n",
       "    </tr>\n",
       "  </tbody>\n",
       "</table>\n",
       "<p>569 rows × 4 columns</p>\n",
       "</div>"
      ],
      "text/plain": [
       "     principal component 1  principal component 2  principal component 3  \\\n",
       "0                 9.192837               1.948583              -1.123167   \n",
       "1                 2.387802              -3.768172              -0.529292   \n",
       "2                 5.733896              -1.075174              -0.551748   \n",
       "3                 7.122953              10.275589              -3.232789   \n",
       "4                 3.935302              -1.948072               1.389767   \n",
       "..                     ...                    ...                    ...   \n",
       "564               6.439315              -3.576817               2.459487   \n",
       "565               3.793382              -3.584048               2.088477   \n",
       "566               1.256179              -1.902297               0.562731   \n",
       "567              10.374794               1.672010              -1.877029   \n",
       "568              -5.475243              -0.670637               1.490442   \n",
       "\n",
       "     principal component 4  \n",
       "0                 3.633734  \n",
       "1                 1.118261  \n",
       "2                 0.912083  \n",
       "3                 0.152546  \n",
       "4                 2.940639  \n",
       "..                     ...  \n",
       "564               1.177313  \n",
       "565              -2.506029  \n",
       "566              -2.089228  \n",
       "567              -2.356030  \n",
       "568              -2.299153  \n",
       "\n",
       "[569 rows x 4 columns]"
      ]
     },
     "execution_count": 4,
     "metadata": {},
     "output_type": "execute_result"
    }
   ],
   "source": [
    "principal_breastDF= pd.DataFrame(data= principal_com_breast,\n",
    "                                columns=['principal component 1','principal component 2',\n",
    "                                        'principal component 3','principal component 4'])\n",
    "principal_breastDF"
   ]
  },
  {
   "cell_type": "code",
   "execution_count": 8,
   "id": "7e1010d4",
   "metadata": {},
   "outputs": [
    {
     "data": {
      "text/plain": [
       "564    0.0\n",
       "565    0.0\n",
       "566    0.0\n",
       "567    0.0\n",
       "568    1.0\n",
       "Name: label, dtype: float64"
      ]
     },
     "execution_count": 8,
     "metadata": {},
     "output_type": "execute_result"
    }
   ],
   "source": [
    "breastDS['label'].tail()"
   ]
  },
  {
   "cell_type": "code",
   "execution_count": 12,
   "id": "8974cda9",
   "metadata": {},
   "outputs": [],
   "source": [
    "label=breastDS['label']"
   ]
  },
  {
   "cell_type": "code",
   "execution_count": 13,
   "id": "6155062e",
   "metadata": {},
   "outputs": [],
   "source": [
    "from sklearn.model_selection import train_test_split\n",
    "from sklearn.naive_bayes import GaussianNB\n",
    "from sklearn import metrics"
   ]
  },
  {
   "cell_type": "code",
   "execution_count": 14,
   "id": "ccb5ba3b",
   "metadata": {},
   "outputs": [],
   "source": [
    "\n",
    "x_train, x_test, y_train, y_test= train_test_split(principal_com_breast, label, test_size=0.3, random_state=109)"
   ]
  },
  {
   "cell_type": "code",
   "execution_count": 15,
   "id": "3153e1da",
   "metadata": {},
   "outputs": [],
   "source": [
    "model=GaussianNB()\n",
    "model.fit(x_train, y_train)\n",
    "ypred= model.predict(x_test)"
   ]
  },
  {
   "cell_type": "code",
   "execution_count": 17,
   "id": "97c774b1",
   "metadata": {},
   "outputs": [
    {
     "name": "stdout",
     "output_type": "stream",
     "text": [
      "Acc:  0.9122807017543859\n"
     ]
    }
   ],
   "source": [
    "print(\"Acc: \", metrics.accuracy_score(y_test, ypred))"
   ]
  },
  {
   "cell_type": "code",
   "execution_count": 18,
   "id": "ebfdaeb2",
   "metadata": {},
   "outputs": [],
   "source": [
    "breastData = load_breast_cancer()\n",
    "labels = np.reshape(breastData.target, (569,1))\n",
    "breast_data = np.concatenate([breastData.data, labels], axis=1)\n",
    "breastFeatureLabel = np.append(breastData.feature_names,\"label\")\n",
    "breastDS = pd.DataFrame(breast_data)\n",
    "breastDS.columns = breastFeatureLabel\n",
    "breastDS['label_name']  = np.where(breastDS[\"label\"] == 0 , \"Benign\", \"Maligant\")\n",
    "x= breastDS.loc[:, breastData.feature_names].values\n",
    "x= StandardScaler().fit_transform(x)\n",
    "column_name = [\"feature\"+str(i) for i in range(x.shape[1])]\n",
    "normalize_breast_df = pd.DataFrame(x,columns= column_name)\n",
    "pca_model = PCA(n_components=2)\n",
    "principal_com_breast = pca_model.fit_transform(x)"
   ]
  },
  {
   "cell_type": "code",
   "execution_count": 19,
   "id": "d6a97425",
   "metadata": {},
   "outputs": [
    {
     "data": {
      "text/plain": [
       "array([[ 9.19283683,  1.94858307],\n",
       "       [ 2.3878018 , -3.76817174],\n",
       "       [ 5.73389628, -1.0751738 ],\n",
       "       ...,\n",
       "       [ 1.25617928, -1.90229671],\n",
       "       [10.37479406,  1.67201011],\n",
       "       [-5.4752433 , -0.67063679]])"
      ]
     },
     "execution_count": 19,
     "metadata": {},
     "output_type": "execute_result"
    }
   ],
   "source": [
    "principal_com_breast"
   ]
  },
  {
   "cell_type": "code",
   "execution_count": 20,
   "id": "49bc4ab5",
   "metadata": {},
   "outputs": [],
   "source": [
    "x_train, x_test, y_train, y_test= train_test_split(principal_com_breast, label, test_size=0.3, random_state=109)"
   ]
  },
  {
   "cell_type": "code",
   "execution_count": 21,
   "id": "16e7618e",
   "metadata": {},
   "outputs": [],
   "source": [
    "model=GaussianNB()\n",
    "model.fit(x_train, y_train)\n",
    "ypred= model.predict(x_test)"
   ]
  },
  {
   "cell_type": "code",
   "execution_count": 22,
   "id": "21e01dae",
   "metadata": {},
   "outputs": [
    {
     "name": "stdout",
     "output_type": "stream",
     "text": [
      "Acc:  0.9181286549707602\n"
     ]
    }
   ],
   "source": [
    "print(\"Acc: \", metrics.accuracy_score(y_test, ypred))"
   ]
  },
  {
   "cell_type": "code",
   "execution_count": null,
   "id": "0aab97fc",
   "metadata": {},
   "outputs": [],
   "source": []
  }
 ],
 "metadata": {
  "kernelspec": {
   "display_name": "Python 3",
   "language": "python",
   "name": "python3"
  },
  "language_info": {
   "codemirror_mode": {
    "name": "ipython",
    "version": 3
   },
   "file_extension": ".py",
   "mimetype": "text/x-python",
   "name": "python",
   "nbconvert_exporter": "python",
   "pygments_lexer": "ipython3",
   "version": "3.8.10"
  }
 },
 "nbformat": 4,
 "nbformat_minor": 5
}
