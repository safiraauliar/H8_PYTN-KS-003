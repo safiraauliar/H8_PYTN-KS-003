{
 "cells": [
  {
   "cell_type": "code",
   "execution_count": 2,
   "id": "efb9e4e8",
   "metadata": {},
   "outputs": [
    {
     "data": {
      "text/plain": [
       "array([1, 2, 3, 4, 5, 6])"
      ]
     },
     "execution_count": 2,
     "metadata": {},
     "output_type": "execute_result"
    }
   ],
   "source": [
    "import numpy as np\n",
    "myArray = np.array([1,2,3,4,5,6])\n",
    "myArray"
   ]
  },
  {
   "cell_type": "markdown",
   "id": "ec2cd346",
   "metadata": {},
   "source": [
    "### Trying some arithmetic operator in  array"
   ]
  },
  {
   "cell_type": "code",
   "execution_count": 3,
   "id": "b8e4904c",
   "metadata": {},
   "outputs": [
    {
     "name": "stdout",
     "output_type": "stream",
     "text": [
      "[ 5 10 15 20 25 30]\n",
      "[1, 2, 3, 4, 5, 6, 1, 2, 3, 4, 5, 6, 1, 2, 3, 4, 5, 6, 1, 2, 3, 4, 5, 6, 1, 2, 3, 4, 5, 6]\n"
     ]
    }
   ],
   "source": [
    "myList = [1,2,3,4,5,6]\n",
    "mulList = myList*5\n",
    "mulArray = myArray*5\n",
    "\n",
    "print(mulArray)\n",
    "print(mulList)"
   ]
  },
  {
   "cell_type": "code",
   "execution_count": 9,
   "id": "5d3d5ffa",
   "metadata": {},
   "outputs": [
    {
     "name": "stdout",
     "output_type": "stream",
     "text": [
      "[ 6  7  8  9 10 11]\n",
      "[0.2 0.4 0.6 0.8 1.  1.2]\n",
      "[-4 -3 -2 -1  0  1]\n"
     ]
    }
   ],
   "source": [
    "addArray = myArray + 5\n",
    "print(addArray)\n",
    "divArray = myArray / 5\n",
    "print(divArray)\n",
    "subArray = myArray - 5\n",
    "print(subArray)\n"
   ]
  },
  {
   "cell_type": "code",
   "execution_count": 15,
   "id": "b24093eb",
   "metadata": {},
   "outputs": [
    {
     "data": {
      "text/plain": [
       "array([[ 1,  2,  3,  4],\n",
       "       [ 5,  6,  7,  8],\n",
       "       [ 9, 10, 11, 12]])"
      ]
     },
     "execution_count": 15,
     "metadata": {},
     "output_type": "execute_result"
    }
   ],
   "source": [
    "myArr = np.array([[1,2,3,4],[5,6,7,8],[9,10,11,12]])\n",
    "myArr"
   ]
  },
  {
   "cell_type": "code",
   "execution_count": 16,
   "id": "4270279c",
   "metadata": {},
   "outputs": [
    {
     "name": "stdout",
     "output_type": "stream",
     "text": [
      "(3, 4)\n",
      "<class 'numpy.ndarray'>\n"
     ]
    }
   ],
   "source": [
    "print(myArr.shape)\n",
    "print(type(myArr))"
   ]
  },
  {
   "cell_type": "code",
   "execution_count": 17,
   "id": "11f519bf",
   "metadata": {},
   "outputs": [
    {
     "name": "stdout",
     "output_type": "stream",
     "text": [
      "9\n"
     ]
    }
   ],
   "source": [
    "#try to get 8\n",
    "print(myArr[2,0])"
   ]
  },
  {
   "cell_type": "code",
   "execution_count": 33,
   "id": "cb0c9bdc",
   "metadata": {},
   "outputs": [
    {
     "name": "stdout",
     "output_type": "stream",
     "text": [
      "[[ 2  3]\n",
      " [ 6  7]\n",
      " [10 11]]\n"
     ]
    }
   ],
   "source": [
    "#ambil rentang array \n",
    "# print(myArr[0:2,1:3])\n",
    "print(myArr[0:,1:3])\n"
   ]
  },
  {
   "cell_type": "code",
   "execution_count": 34,
   "id": "c661be2c",
   "metadata": {},
   "outputs": [
    {
     "name": "stdout",
     "output_type": "stream",
     "text": [
      "[[ 5  6  7  8]\n",
      " [ 9 10 11 12]]\n"
     ]
    }
   ],
   "source": [
    "print(myArr[0:][1:3])"
   ]
  },
  {
   "cell_type": "code",
   "execution_count": 39,
   "id": "2974aae2",
   "metadata": {},
   "outputs": [],
   "source": [
    "#import data.csv\n",
    "myStudentData = np.genfromtxt(\"./data.csv\", skip_header =1, delimiter=',',filling_values =70)"
   ]
  },
  {
   "cell_type": "code",
   "execution_count": 40,
   "id": "8764c4c1",
   "metadata": {},
   "outputs": [
    {
     "data": {
      "text/plain": [
       "array([[75., 70., 80., 30.],\n",
       "       [90., 76., 87., 90.],\n",
       "       [78., 70., 79., 67.],\n",
       "       [90., 70., 78., 89.]])"
      ]
     },
     "execution_count": 40,
     "metadata": {},
     "output_type": "execute_result"
    }
   ],
   "source": [
    "myStudentData"
   ]
  },
  {
   "cell_type": "code",
   "execution_count": 42,
   "id": "c2829bcc",
   "metadata": {},
   "outputs": [
    {
     "name": "stdout",
     "output_type": "stream",
     "text": [
      "[90. 76. 87. 90.]\n"
     ]
    }
   ],
   "source": [
    "maxInClass = np.amax(myStudentData, axis=0)\n",
    "print(maxInClass)"
   ]
  },
  {
   "cell_type": "code",
   "execution_count": 43,
   "id": "38a2f8ab",
   "metadata": {},
   "outputs": [
    {
     "name": "stdout",
     "output_type": "stream",
     "text": [
      "[83.25 71.5  81.   69.  ]\n"
     ]
    }
   ],
   "source": [
    "avStudentPerMapel = np.mean(myStudentData, axis=0)\n",
    "print(avStudentPerMapel)"
   ]
  },
  {
   "cell_type": "code",
   "execution_count": 59,
   "id": "3506b2ee",
   "metadata": {},
   "outputs": [],
   "source": [
    "myStudentData = np.append(myStudentData,[[50,68,90,67]],axis=0)"
   ]
  },
  {
   "cell_type": "code",
   "execution_count": 60,
   "id": "c641f824",
   "metadata": {},
   "outputs": [
    {
     "data": {
      "text/plain": [
       "array([[75., 70., 80., 30.],\n",
       "       [90., 76., 87., 90.],\n",
       "       [78., 70., 79., 67.],\n",
       "       [90., 70., 78., 89.],\n",
       "       [50., 68., 90., 67.]])"
      ]
     },
     "execution_count": 60,
     "metadata": {},
     "output_type": "execute_result"
    }
   ],
   "source": [
    "myStudentData"
   ]
  },
  {
   "cell_type": "code",
   "execution_count": 61,
   "id": "8c2dd8dc",
   "metadata": {},
   "outputs": [
    {
     "data": {
      "text/plain": [
       "array([[75., 70., 80., 30.],\n",
       "       [90., 76., 87., 90.],\n",
       "       [78., 70., 79., 67.],\n",
       "       [90., 70., 78., 89.]])"
      ]
     },
     "execution_count": 61,
     "metadata": {},
     "output_type": "execute_result"
    }
   ],
   "source": [
    "myStudentData = np.delete(myStudentData,[4],axis=0)\n",
    "myStudentData"
   ]
  },
  {
   "cell_type": "code",
   "execution_count": 63,
   "id": "dbaf3ee8",
   "metadata": {},
   "outputs": [
    {
     "ename": "ValueError",
     "evalue": "cannot reshape array of size 16 into shape (3,4)",
     "output_type": "error",
     "traceback": [
      "\u001b[0;31m---------------------------------------------------------------------------\u001b[0m",
      "\u001b[0;31mValueError\u001b[0m                                Traceback (most recent call last)",
      "\u001b[0;32m<ipython-input-63-aa43a5e8ba7c>\u001b[0m in \u001b[0;36m<module>\u001b[0;34m\u001b[0m\n\u001b[0;32m----> 1\u001b[0;31m \u001b[0mnewShape\u001b[0m \u001b[0;34m=\u001b[0m \u001b[0mmyStudentData\u001b[0m\u001b[0;34m.\u001b[0m\u001b[0mreshape\u001b[0m\u001b[0;34m(\u001b[0m\u001b[0;36m3\u001b[0m\u001b[0;34m,\u001b[0m\u001b[0;36m4\u001b[0m\u001b[0;34m)\u001b[0m\u001b[0;34m\u001b[0m\u001b[0;34m\u001b[0m\u001b[0m\n\u001b[0m",
      "\u001b[0;31mValueError\u001b[0m: cannot reshape array of size 16 into shape (3,4)"
     ]
    }
   ],
   "source": [
    "newShape = myStudentData.reshape(3,4)"
   ]
  },
  {
   "cell_type": "code",
   "execution_count": 65,
   "id": "5761baf5",
   "metadata": {},
   "outputs": [
    {
     "data": {
      "text/plain": [
       "array([0, 1, 2, 3, 4, 5])"
      ]
     },
     "execution_count": 65,
     "metadata": {},
     "output_type": "execute_result"
    }
   ],
   "source": [
    "a=np.arange(6)\n",
    "a"
   ]
  },
  {
   "cell_type": "code",
   "execution_count": 67,
   "id": "d8d97726",
   "metadata": {},
   "outputs": [
    {
     "data": {
      "text/plain": [
       "array([[0, 1, 2],\n",
       "       [3, 4, 5]])"
      ]
     },
     "execution_count": 67,
     "metadata": {},
     "output_type": "execute_result"
    }
   ],
   "source": [
    "b = a.reshape(2,3)\n",
    "b"
   ]
  },
  {
   "cell_type": "markdown",
   "id": "1e9bb355",
   "metadata": {},
   "source": [
    "### 1D to 2D"
   ]
  },
  {
   "cell_type": "code",
   "execution_count": 78,
   "id": "65bd29bc",
   "metadata": {},
   "outputs": [
    {
     "name": "stdout",
     "output_type": "stream",
     "text": [
      "1D array:  [1 2 3 4 5 4]\n",
      "1d to 2d:  [[1 2 3]\n",
      " [4 5 4]]\n",
      "back to 1d:  [1 2 3 4 5 4]\n"
     ]
    }
   ],
   "source": [
    "Array1D = np.array([1,2,3,4,5,4])\n",
    "print(\"1D array: \",Array1D)\n",
    "Array2D = Array1D.reshape(2,3)\n",
    "print(\"1d to 2d: \",Array2D)\n",
    "backto1D = Array2D.reshape(1,6)[0]\n",
    "print(\"back to 1d: \",backto1D)"
   ]
  },
  {
   "cell_type": "code",
   "execution_count": 80,
   "id": "502172f5",
   "metadata": {},
   "outputs": [],
   "source": [
    "array_1 = np.array([\n",
    "    [1,2,3],\n",
    "    [4,5,6]\n",
    "])\n",
    "array_2 = np.array([\n",
    "    [3,4,6],\n",
    "    [6,7,8]\n",
    "])\n",
    "array_3 = np.array([\n",
    "    [3,4],\n",
    "    [5,6]\n",
    "])\n",
    "\n",
    "# Vstack\n",
    "v_stack = np.vstack((array_1,array_2))\n",
    "h_stack = np.hstack((array_1,array_2))\n",
    "h_stackArr3 = np.hstack((array_1,array_3))"
   ]
  },
  {
   "cell_type": "code",
   "execution_count": 81,
   "id": "689ba78a",
   "metadata": {},
   "outputs": [
    {
     "name": "stdout",
     "output_type": "stream",
     "text": [
      "[[1 2 3]\n",
      " [4 5 6]\n",
      " [3 4 6]\n",
      " [6 7 8]]\n",
      "[[1 2 3 3 4 6]\n",
      " [4 5 6 6 7 8]]\n",
      "[[1 2 3 3 4]\n",
      " [4 5 6 5 6]]\n"
     ]
    }
   ],
   "source": [
    "print(v_stack)\n",
    "print(h_stack)\n",
    "print(h_stackArr3)"
   ]
  },
  {
   "cell_type": "code",
   "execution_count": null,
   "id": "0622bf78",
   "metadata": {},
   "outputs": [],
   "source": []
  }
 ],
 "metadata": {
  "kernelspec": {
   "display_name": "Python 3",
   "language": "python",
   "name": "python3"
  },
  "language_info": {
   "codemirror_mode": {
    "name": "ipython",
    "version": 3
   },
   "file_extension": ".py",
   "mimetype": "text/x-python",
   "name": "python",
   "nbconvert_exporter": "python",
   "pygments_lexer": "ipython3",
   "version": "3.8.10"
  }
 },
 "nbformat": 4,
 "nbformat_minor": 5
}
